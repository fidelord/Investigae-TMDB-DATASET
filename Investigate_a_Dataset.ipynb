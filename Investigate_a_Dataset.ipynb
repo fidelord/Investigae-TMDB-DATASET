{
 "cells": [
  {
   "cell_type": "markdown",
   "metadata": {},
   "source": [
    "# Project: Investigate a Dataset - [TMDb movie Data]\n",
    "\n",
    "## Table of Contents\n",
    "<ul>\n",
    "<li><a href=\"#intro\">Introduction</a></li>\n",
    "<li><a href=\"#wrangling\">Data Wrangling</a></li>\n",
    "<li><a href=\"#eda\">Exploratory Data Analysis</a></li>\n",
    "<li><a href=\"#conclusions\">Conclusions</a></li>\n",
    "</ul>"
   ]
  },
  {
   "cell_type": "markdown",
   "metadata": {},
   "source": [
    "<a id='intro'></a>\n",
    "## Introduction\n",
    "\n",
    "### Dataset Description \n",
    "\n",
    "his dataset contains information about 10,000 movies collected from The Movie Database (TMDb), including user ratings and revenue.The description of the various features of the dataset is shown below.\n",
    "<ul>\n",
    "<li>1) id - the identification number of the movie in the dataset</li>\n",
    "<li>2) imdb_idn - the imdb database identification number of the movie in the dataset</li>\n",
    "<li>3) popularity - the populairty score of the movie represented as a floating point number</li>\n",
    "<li>4) budget     - the capital allocated to the making of a movie</li>\n",
    "<li>5) revenue    - the total amount of money made by a movie</li>\n",
    "<li>6) original_title -the title of the movie</li>\n",
    "<li>7) cast - the names of the actors and staff involved in the production  of the movie</li>\n",
    "<li>8) homepage - official website link to the movie</li>\n",
    "<li>9) director - the director of the movie</li>\n",
    "<li>10) tagline - catchphrase of the movie</li>\n",
    "<li>11) keywords - this is a word used describe any notable object, concept, style or action that takes place during a title.</li>\n",
    "<li>12) overview - short summarry of a movie</li>\n",
    "<li>13) runtime  - Total watchtime of a movie</li>\n",
    "<li>14) genres   - a style or category of art, music, or literature.</li>\n",
    "<li>15) production_companies - company involved in the production of a movie</li>\n",
    "<li>16) release_date - date of release of a movie</li>\n",
    "<li>17) vote_count - number of upvotes for a particular movie</li>\n",
    "<li>18) vote_average - It's the average of all of the TMDb user ratings.</li>\n",
    "<li>19) release_year - the year of release</li>\n",
    "<li>20) budget_adj   - budget in terms of 2010 dollars, accounting for inflation over time.</li>\n",
    "<li>21) revenue_adj  - revenue in terms of 2010 dollars, accounting for inflation over time.</li>\n",
    "</ul>\n",
    "\n",
    "### Question(s) for Analysis\n",
    "<ul>\n",
    "    <li>what is the average runtime of different movie genres</li>\n",
    "    <li>Which month has the highest average revenue over the years</li>\n",
    "    <li>What is the total vote average of different movie genres</li>\n",
    "</ul>"
   ]
  },
  {
   "cell_type": "code",
   "execution_count": 99,
   "metadata": {},
   "outputs": [],
   "source": [
    "# Use this cell to set up import statements for all of the packages that you\n",
    "#   plan to use.\n",
    "import pandas as pd\n",
    "import numpy as np\n",
    "import matplotlib.pyplot as plt\n",
    "import seaborn as sns\n",
    "%matplotlib inline\n",
    "# Remember to include a 'magic word' so that your visualizations are plotted\n",
    "#   inline with the notebook. See this page for more:\n",
    "#http://ipython.readthedocs.io/en/stable/interactive/magics.html\n"
   ]
  },
  {
   "cell_type": "code",
   "execution_count": 100,
   "metadata": {},
   "outputs": [],
   "source": [
    "# Upgrade pandas to use dataframe.explode() function. \n",
    "#!pip install --upgrade pandas==1.4.2"
   ]
  },
  {
   "cell_type": "code",
   "execution_count": 101,
   "metadata": {},
   "outputs": [],
   "source": [
    "#!pip install -U jupyter"
   ]
  },
  {
   "cell_type": "markdown",
   "metadata": {},
   "source": [
    "<a id='wrangling'></a>\n",
    "## Data Wrangling\n",
    "\n",
    "\n",
    "\n",
    "### General Properties\n"
   ]
  },
  {
   "cell_type": "code",
   "execution_count": 102,
   "metadata": {},
   "outputs": [],
   "source": [
    "# Load your data and print out a few lines. Perform operations to inspect data\n",
    "#   types and look for instances of missing or possibly errant data.\n",
    "df = pd.read_csv('tmdb-movies.csv')"
   ]
  },
  {
   "cell_type": "code",
   "execution_count": 103,
   "metadata": {},
   "outputs": [
    {
     "name": "stdout",
     "output_type": "stream",
     "text": [
      "       id    imdb_id  popularity     budget     revenue  \\\n",
      "0  135397  tt0369610   32.985763  150000000  1513528810   \n",
      "1   76341  tt1392190   28.419936  150000000   378436354   \n",
      "2  262500  tt2908446   13.112507  110000000   295238201   \n",
      "3  140607  tt2488496   11.173104  200000000  2068178225   \n",
      "4  168259  tt2820852    9.335014  190000000  1506249360   \n",
      "\n",
      "                 original_title  \\\n",
      "0                Jurassic World   \n",
      "1            Mad Max: Fury Road   \n",
      "2                     Insurgent   \n",
      "3  Star Wars: The Force Awakens   \n",
      "4                     Furious 7   \n",
      "\n",
      "                                                cast  \\\n",
      "0  Chris Pratt|Bryce Dallas Howard|Irrfan Khan|Vi...   \n",
      "1  Tom Hardy|Charlize Theron|Hugh Keays-Byrne|Nic...   \n",
      "2  Shailene Woodley|Theo James|Kate Winslet|Ansel...   \n",
      "3  Harrison Ford|Mark Hamill|Carrie Fisher|Adam D...   \n",
      "4  Vin Diesel|Paul Walker|Jason Statham|Michelle ...   \n",
      "\n",
      "                                            homepage          director  \\\n",
      "0                      http://www.jurassicworld.com/   Colin Trevorrow   \n",
      "1                        http://www.madmaxmovie.com/     George Miller   \n",
      "2     http://www.thedivergentseries.movie/#insurgent  Robert Schwentke   \n",
      "3  http://www.starwars.com/films/star-wars-episod...       J.J. Abrams   \n",
      "4                           http://www.furious7.com/         James Wan   \n",
      "\n",
      "                         tagline  ...  \\\n",
      "0              The park is open.  ...   \n",
      "1             What a Lovely Day.  ...   \n",
      "2     One Choice Can Destroy You  ...   \n",
      "3  Every generation has a story.  ...   \n",
      "4            Vengeance Hits Home  ...   \n",
      "\n",
      "                                            overview runtime  \\\n",
      "0  Twenty-two years after the events of Jurassic ...     124   \n",
      "1  An apocalyptic story set in the furthest reach...     120   \n",
      "2  Beatrice Prior must confront her inner demons ...     119   \n",
      "3  Thirty years after defeating the Galactic Empi...     136   \n",
      "4  Deckard Shaw seeks revenge against Dominic Tor...     137   \n",
      "\n",
      "                                      genres  \\\n",
      "0  Action|Adventure|Science Fiction|Thriller   \n",
      "1  Action|Adventure|Science Fiction|Thriller   \n",
      "2         Adventure|Science Fiction|Thriller   \n",
      "3   Action|Adventure|Science Fiction|Fantasy   \n",
      "4                      Action|Crime|Thriller   \n",
      "\n",
      "                                production_companies release_date vote_count  \\\n",
      "0  Universal Studios|Amblin Entertainment|Legenda...       6/9/15       5562   \n",
      "1  Village Roadshow Pictures|Kennedy Miller Produ...      5/13/15       6185   \n",
      "2  Summit Entertainment|Mandeville Films|Red Wago...      3/18/15       2480   \n",
      "3          Lucasfilm|Truenorth Productions|Bad Robot     12/15/15       5292   \n",
      "4  Universal Pictures|Original Film|Media Rights ...       4/1/15       2947   \n",
      "\n",
      "   vote_average  release_year    budget_adj   revenue_adj  \n",
      "0           6.5          2015  1.379999e+08  1.392446e+09  \n",
      "1           7.1          2015  1.379999e+08  3.481613e+08  \n",
      "2           6.3          2015  1.012000e+08  2.716190e+08  \n",
      "3           7.5          2015  1.839999e+08  1.902723e+09  \n",
      "4           7.3          2015  1.747999e+08  1.385749e+09  \n",
      "\n",
      "[5 rows x 21 columns]\n"
     ]
    }
   ],
   "source": [
    "#checking how the data looks like\n",
    "print(df.head(5))"
   ]
  },
  {
   "cell_type": "code",
   "execution_count": 104,
   "metadata": {},
   "outputs": [
    {
     "data": {
      "text/plain": [
       "(10866, 21)"
      ]
     },
     "execution_count": 104,
     "metadata": {},
     "output_type": "execute_result"
    }
   ],
   "source": [
    "#checking the number of samples and columns of the dataset\n",
    "df.shape"
   ]
  },
  {
   "cell_type": "code",
   "execution_count": 105,
   "metadata": {},
   "outputs": [
    {
     "data": {
      "text/plain": [
       "1"
      ]
     },
     "execution_count": 105,
     "metadata": {},
     "output_type": "execute_result"
    }
   ],
   "source": [
    "#ccheck for duplicate rows\n",
    "sum(df.duplicated())\n"
   ]
  },
  {
   "cell_type": "code",
   "execution_count": 106,
   "metadata": {},
   "outputs": [
    {
     "name": "stdout",
     "output_type": "stream",
     "text": [
      "<class 'pandas.core.frame.DataFrame'>\n",
      "RangeIndex: 10866 entries, 0 to 10865\n",
      "Data columns (total 21 columns):\n",
      " #   Column                Non-Null Count  Dtype  \n",
      "---  ------                --------------  -----  \n",
      " 0   id                    10866 non-null  int64  \n",
      " 1   imdb_id               10856 non-null  object \n",
      " 2   popularity            10866 non-null  float64\n",
      " 3   budget                10866 non-null  int64  \n",
      " 4   revenue               10866 non-null  int64  \n",
      " 5   original_title        10866 non-null  object \n",
      " 6   cast                  10790 non-null  object \n",
      " 7   homepage              2936 non-null   object \n",
      " 8   director              10822 non-null  object \n",
      " 9   tagline               8042 non-null   object \n",
      " 10  keywords              9373 non-null   object \n",
      " 11  overview              10862 non-null  object \n",
      " 12  runtime               10866 non-null  int64  \n",
      " 13  genres                10843 non-null  object \n",
      " 14  production_companies  9836 non-null   object \n",
      " 15  release_date          10866 non-null  object \n",
      " 16  vote_count            10866 non-null  int64  \n",
      " 17  vote_average          10866 non-null  float64\n",
      " 18  release_year          10866 non-null  int64  \n",
      " 19  budget_adj            10866 non-null  float64\n",
      " 20  revenue_adj           10866 non-null  float64\n",
      "dtypes: float64(4), int64(6), object(11)\n",
      "memory usage: 1.7+ MB\n"
     ]
    }
   ],
   "source": [
    "#lets then inspect the data type of various columns of the dataset to see which one requires modification\n",
    "df.info()"
   ]
  },
  {
   "cell_type": "markdown",
   "metadata": {},
   "source": [
    "It can be seen from the preceeding cell that the columns; cast,homepage, director,tagline,keywords,overview, genres, production_companies have missing entries. Also the coluumns keywords, genres and production_companies have items separated by the '|' character. This is unacceptable and would need to be rectified. Outlined below is a list of the steps that would be followed in order to make the data in the dataset clean and acceptable.\n",
    "<ul>\n",
    "<li>In order to be efficient and as a result of the questions we intend to investigate I intend to drop the columns cast, homepage, tagline and overview from the dataset since they have no bearing on the analysis we intend to carry out</li>\n",
    "<li>in the budget, budget_adj , revenue, revenue_adj columns any entry that is zero will be considered a missing value and be replaced by the mean</li>\n",
    "<li>the next step is to drop all rows that have have missing entries after the replacement by the preceeding step and also drop duplicate rows</li>\n",
    "<li>The next step is to convert the hybrid rows(rows containing items in the keywords, genres and production_companies seperated by the '|' character) and split them into new rows</li>\n",
    "<li>Finally we are going to convert the release_date and release_year columns to datetime objects and also convert budget and revenue columns to floating point values </li>\n",
    "</ul>\n"
   ]
  },
  {
   "cell_type": "markdown",
   "metadata": {},
   "source": [
    "\n",
    "### Data Cleaning\n"
   ]
  },
  {
   "cell_type": "code",
   "execution_count": 107,
   "metadata": {},
   "outputs": [],
   "source": [
    "# we first drop columns cast, homepage, tagline and overview\n",
    "df.drop(['cast', 'tagline', 'homepage', 'overview'], axis = 1, inplace = True)\n",
    "\n"
   ]
  },
  {
   "cell_type": "markdown",
   "metadata": {},
   "source": [
    "in the preceeding cell we dropped the columns cast , tagline , homepage and overview from the dataset since they are not important for the research questions we intend to analyze."
   ]
  },
  {
   "cell_type": "code",
   "execution_count": 108,
   "metadata": {},
   "outputs": [
    {
     "data": {
      "text/plain": [
       "0        1.513529e+09\n",
       "1        3.784364e+08\n",
       "2        2.952382e+08\n",
       "3        2.068178e+09\n",
       "4        1.506249e+09\n",
       "             ...     \n",
       "10861    0.000000e+00\n",
       "10862    0.000000e+00\n",
       "10863    0.000000e+00\n",
       "10864    0.000000e+00\n",
       "10865    0.000000e+00\n",
       "Name: revenue, Length: 10866, dtype: float64"
      ]
     },
     "execution_count": 108,
     "metadata": {},
     "output_type": "execute_result"
    }
   ],
   "source": [
    "#lets convert budget and revenue columns to floating point values\n",
    "df['budget'].astype(float)\n",
    "df['revenue'].astype(float)"
   ]
  },
  {
   "cell_type": "markdown",
   "metadata": {},
   "source": [
    "in the preceeding cell we converted the budget and revenue columns to floating point values. The reason for this will be made clear subsequently"
   ]
  },
  {
   "cell_type": "code",
   "execution_count": 109,
   "metadata": {},
   "outputs": [],
   "source": [
    "# replace zero values with mean values\n",
    "df['budget'].replace(0, np.nan, inplace = True)\n",
    "df['revenue'].replace(0, np.nan, inplace = True)\n",
    "df['budget_adj'].replace(0, np.nan, inplace = True)\n",
    "df['revenue_adj'].replace(0, np.nan, inplace = True)"
   ]
  },
  {
   "cell_type": "markdown",
   "metadata": {},
   "source": [
    "in the preceeding cell we replaced all zero values of columns budget, revenue , budget_adj, revenue_adj with the mean. it is necessary to note that the budget and revenue columns were converted to floating points in order to get accurate values for the mean"
   ]
  },
  {
   "cell_type": "code",
   "execution_count": 110,
   "metadata": {},
   "outputs": [],
   "source": [
    "#next is drop rows containing missing values and duplicate rows\n",
    "df.drop_duplicates(inplace = True)\n"
   ]
  },
  {
   "cell_type": "markdown",
   "metadata": {},
   "source": [
    "rows containing missing values were dropped in order to ensure the data is clean and uniform"
   ]
  },
  {
   "cell_type": "code",
   "execution_count": 111,
   "metadata": {},
   "outputs": [],
   "source": [
    "#convert the cells containing '|' into lists\n",
    "df['keywords'] = df['keywords'].apply(lambda x:x.split('|') if type(x) == str else x)\n",
    "df['genres'] = df['genres'].apply(lambda x:x.split('|') if type(x) == str else x)\n",
    "df['production_companies'] = df['production_companies'].apply(lambda x:x.split('|') if type(x) == str else x)"
   ]
  },
  {
   "cell_type": "markdown",
   "metadata": {},
   "source": [
    "in the cell above we converted the items seperated by the '|' character in to a list. This was done so that we could make use of pandas explode function which will be used subsequently"
   ]
  },
  {
   "cell_type": "code",
   "execution_count": 112,
   "metadata": {},
   "outputs": [],
   "source": [
    "keyword =df.explode('keywords')"
   ]
  },
  {
   "cell_type": "code",
   "execution_count": 113,
   "metadata": {},
   "outputs": [],
   "source": [
    "genre = df.explode('genres')"
   ]
  },
  {
   "cell_type": "code",
   "execution_count": 114,
   "metadata": {},
   "outputs": [],
   "source": [
    "production_companies = df.explode('production_companies')"
   ]
  },
  {
   "cell_type": "markdown",
   "metadata": {},
   "source": [
    "in the last 3 preceeding cells we used the explode function in pandas to extend the rows containing cells that have the character '|' in to new rows this will be helpful in our later analysis"
   ]
  },
  {
   "cell_type": "code",
   "execution_count": 115,
   "metadata": {},
   "outputs": [
    {
     "name": "stdout",
     "output_type": "stream",
     "text": [
      "          id    imdb_id  popularity   budget  revenue  \\\n",
      "10861     21  tt0060371    0.080598      NaN      NaN   \n",
      "10862  20379  tt0060472    0.065543      NaN      NaN   \n",
      "10863  39768  tt0060161    0.065141      NaN      NaN   \n",
      "10864  21449  tt0061177    0.064317      NaN      NaN   \n",
      "10865  22293  tt0060666    0.035919  19000.0      NaN   \n",
      "\n",
      "                 original_title            director  \\\n",
      "10861        The Endless Summer         Bruce Brown   \n",
      "10862                Grand Prix  John Frankenheimer   \n",
      "10863       Beregis Avtomobilya      Eldar Ryazanov   \n",
      "10864    What's Up, Tiger Lily?         Woody Allen   \n",
      "10865  Manos: The Hands of Fate    Harold P. Warren   \n",
      "\n",
      "                                        keywords  runtime  \\\n",
      "10861               [surfer, surfboard, surfing]       95   \n",
      "10862              [car race, racing, formula 1]      176   \n",
      "10863               [car, trolley, stealing car]       94   \n",
      "10864                                    [spoof]       80   \n",
      "10865  [fire, gun, drive, sacrifice, flashlight]       74   \n",
      "\n",
      "                           genres  \\\n",
      "10861               [Documentary]   \n",
      "10862  [Action, Adventure, Drama]   \n",
      "10863           [Mystery, Comedy]   \n",
      "10864            [Action, Comedy]   \n",
      "10865                    [Horror]   \n",
      "\n",
      "                                    production_companies release_date  \\\n",
      "10861                                [Bruce Brown Films]      6/15/66   \n",
      "10862  [Cherokee Productions, Joel Productions, Dougl...     12/21/66   \n",
      "10863                                          [Mosfilm]       1/1/66   \n",
      "10864                          [Benedict Pictures Corp.]      11/2/66   \n",
      "10865                                        [Norm-Iris]     11/15/66   \n",
      "\n",
      "       vote_count  vote_average  release_year     budget_adj  revenue_adj  \n",
      "10861          11           7.4          1966            NaN          NaN  \n",
      "10862          20           5.7          1966            NaN          NaN  \n",
      "10863          11           6.5          1966            NaN          NaN  \n",
      "10864          22           5.4          1966            NaN          NaN  \n",
      "10865          15           1.5          1966  127642.279154          NaN  \n"
     ]
    }
   ],
   "source": [
    "print(df.tail())"
   ]
  },
  {
   "cell_type": "code",
   "execution_count": 116,
   "metadata": {},
   "outputs": [],
   "source": [
    "# convert release date to datetime object\n",
    "df['release_date'] = pd.to_datetime(df['release_date'])\n",
    "df['Month'] = df['release_date'].dt.month_name(locale='English')"
   ]
  },
  {
   "cell_type": "markdown",
   "metadata": {},
   "source": [
    "In the final step of the analysis we convert the release_date column to datetime objecs and extract the month name to a separate column which will be used in our analysis in the subsequent sessions"
   ]
  },
  {
   "cell_type": "markdown",
   "metadata": {},
   "source": [
    "<a id='eda'></a>\n",
    "## Exploratory Data Analysis\n",
    "\n",
    "\n",
    "\n"
   ]
  },
  {
   "cell_type": "markdown",
   "metadata": {},
   "source": [
    "### what is the average runtime of different movie genres"
   ]
  },
  {
   "cell_type": "code",
   "execution_count": 117,
   "metadata": {},
   "outputs": [],
   "source": [
    "#group by genre and get the genres and average runtime in two separate lists respectively\n",
    "Genre = genre.dropna(subset=['genres', 'runtime']).copy() #drops rows where either genres or runtime is empty\n",
    "cf = Genre.groupby('genres')\n",
    "labels = [key for key, _ in cf]\n",
    "Average_runtime = list(Genre.groupby('genres')['runtime'].mean())"
   ]
  },
  {
   "cell_type": "code",
   "execution_count": 118,
   "metadata": {},
   "outputs": [
    {
     "data": {
      "text/plain": [
       "<matplotlib.axes._subplots.AxesSubplot at 0x81209faaf0>"
      ]
     },
     "execution_count": 118,
     "metadata": {},
     "output_type": "execute_result"
    },
    {
     "data": {
      "image/png": "[encoded data removed]",
      "text/plain": [
       "<Figure size 1008x432 with 1 Axes>"
      ]
     },
     "metadata": {
      "needs_background": "light"
     },
     "output_type": "display_data"
    }
   ],
   "source": [
    "Genre['runtime'].hist(grid = False , bins = 40 , edgecolor = 'black', figsize = [14,6])"
   ]
  },
  {
   "cell_type": "markdown",
   "metadata": {},
   "source": [
    "As we can observe the average runtime is heavily skewed to the right."
   ]
  },
  {
   "cell_type": "code",
   "execution_count": 119,
   "metadata": {},
   "outputs": [],
   "source": [
    "#function to plot barchart\n",
    "''' takes in a list of labels and a list of their corresponding values and plots a barchart'''\n",
    "def plot_chart(xlabel, ylabel, title, labels, values):\n",
    "    y_pos = [i for i, _ in enumerate(labels)]\n",
    "    plt.barh(y_pos, values, color='green')\n",
    "    plt.ylabel(ylabel)\n",
    "    plt.xlabel(xlabel)\n",
    "    plt.title(title)\n",
    "    plt.yticks(y_pos, labels)\n",
    "    plt.show()\n"
   ]
  },
  {
   "cell_type": "code",
   "execution_count": 120,
   "metadata": {},
   "outputs": [
    {
     "data": {
      "image/png": "[encoded data removed]",
      "text/plain": [
       "<Figure size 432x288 with 1 Axes>"
      ]
     },
     "metadata": {
      "needs_background": "light"
     },
     "output_type": "display_data"
    }
   ],
   "source": [
    "#barchart of genres against average runtime\n",
    "plot_chart('Average_runtime','genres', 'Average runtime of different movie genres', labels, Average_runtime)"
   ]
  },
  {
   "cell_type": "markdown",
   "metadata": {},
   "source": [
    "From the above analysis we can see that historical movies have the highest average watchtime while animated movies have the lowest average runtime. Although this is my opinion but I feel the reason that the average runtime of animation is low is because the genres are usually geared towards very young audience with short attention span"
   ]
  },
  {
   "cell_type": "markdown",
   "metadata": {},
   "source": [
    "### Which month has the highest average revenue over the years"
   ]
  },
  {
   "cell_type": "code",
   "execution_count": 121,
   "metadata": {},
   "outputs": [],
   "source": [
    "#group by month and then get the names of the month in to a list and the average_revenue into a list\n",
    "Month_df = df.dropna(subset =['Month','revenue']).copy()\n",
    "cf = Month_df.groupby('Month')\n",
    "month_labels = [key for key, _ in cf]\n",
    "Average_revenue = list(Month_df.groupby('Month')['revenue'].mean())"
   ]
  },
  {
   "cell_type": "code",
   "execution_count": 122,
   "metadata": {},
   "outputs": [
    {
     "data": {
      "text/plain": [
       "<matplotlib.axes._subplots.AxesSubplot at 0x811d1d1100>"
      ]
     },
     "execution_count": 122,
     "metadata": {},
     "output_type": "execute_result"
    },
    {
     "data": {
      "image/png": "[encoded data removed]",
      "text/plain": [
       "<Figure size 1008x432 with 1 Axes>"
      ]
     },
     "metadata": {
      "needs_background": "light"
     },
     "output_type": "display_data"
    }
   ],
   "source": [
    "Month_df['revenue'].hist(grid = False , bins = 40 , edgecolor = 'black', figsize = [14,6])"
   ]
  },
  {
   "cell_type": "markdown",
   "metadata": {},
   "source": [
    "As we can see from the histogram the revenues are heavily skewed to the right"
   ]
  },
  {
   "cell_type": "code",
   "execution_count": 123,
   "metadata": {},
   "outputs": [
    {
     "data": {
      "image/png": "[encoded data removed]",
      "text/plain": [
       "<Figure size 432x288 with 1 Axes>"
      ]
     },
     "metadata": {
      "needs_background": "light"
     },
     "output_type": "display_data"
    }
   ],
   "source": [
    "#plot barchart of month against average revenue\n",
    "plot_chart(\"Average_revenue\",\"Month\",\"Average revenue of each month over the years\", month_labels, Average_revenue)"
   ]
  },
  {
   "cell_type": "markdown",
   "metadata": {},
   "source": [
    "The month with the highest average revenue is June while the month with the Lowest Average revenue is January. it is possible that there are hidden factors that makes this to be case."
   ]
  },
  {
   "cell_type": "markdown",
   "metadata": {},
   "source": [
    "### What is the total vote average of different movie genres"
   ]
  },
  {
   "cell_type": "code",
   "execution_count": 124,
   "metadata": {},
   "outputs": [],
   "source": [
    "#group by genres and get the list of different genres and their total vote average\n",
    "genre.dropna(subset=['genres', 'vote_average'], inplace = True) #drops rows where either genres or runtime is empty\n",
    "cf = genre.groupby('genres')\n",
    "labels = [key for key, _ in cf]\n",
    "Total_vote_average = list(genre.groupby('genres')['vote_average'].sum())"
   ]
  },
  {
   "cell_type": "code",
   "execution_count": 125,
   "metadata": {},
   "outputs": [
    {
     "data": {
      "text/plain": [
       "<matplotlib.axes._subplots.AxesSubplot at 0x811eee0be0>"
      ]
     },
     "execution_count": 125,
     "metadata": {},
     "output_type": "execute_result"
    },
    {
     "data": {
      "image/png": "[encoded data removed]",
      "text/plain": [
       "<Figure size 1008x432 with 1 Axes>"
      ]
     },
     "metadata": {
      "needs_background": "light"
     },
     "output_type": "display_data"
    }
   ],
   "source": [
    "genre['vote_average'].hist(grid = False , bins = 40 , edgecolor = 'black', figsize = [14,6])"
   ]
  },
  {
   "cell_type": "markdown",
   "metadata": {},
   "source": [
    "The vote averages are slightly skewed to the left"
   ]
  },
  {
   "cell_type": "code",
   "execution_count": 126,
   "metadata": {},
   "outputs": [
    {
     "data": {
      "image/png": "[encoded data removed]",
      "text/plain": [
       "<Figure size 432x288 with 1 Axes>"
      ]
     },
     "metadata": {
      "needs_background": "light"
     },
     "output_type": "display_data"
    }
   ],
   "source": [
    "# barchart of genres against total vote average\n",
    "plot_chart(\"Total vote_average\",\"genres\",\"Vote Average of different genres of movies\",labels, Total_vote_average)"
   ]
  },
  {
   "cell_type": "markdown",
   "metadata": {},
   "source": [
    "From the graph above we can see that the genre with the highest vote average is Drama. while the genre with lowest vote average is Foreign."
   ]
  },
  {
   "cell_type": "markdown",
   "metadata": {},
   "source": [
    "<a id='conclusions'></a>\n",
    "## Conclusions\n",
    "\n",
    "Here is a summary of the findings from our research questions\n",
    "<ul>\n",
    "<li>For the first research question we can see from the barchart that Historical movies have the higherst Average runtime while animation has the lowest Average runtime.I will like to assume that the type audience that a particular genre of movie is directed to determines the runtime however this needs to be investigated more</li>\n",
    "<li>In the analysis for the second research question we can see that the month with the Highest revenue on average is June while the month with the Lowest revenue on Average is January. I sincerely believe there are underlying factors that makes this observation the way it is. for example the month of june might be filled with a lot of holidays hence people can make out time to visit the movies frequently. However since the variables  in the dataset does not give us an opportunity to verify the above assumption it is best not to assume.</li>\n",
    "<li>In the final research question we investigate the total vote average of different movie genres. we can see that  the genre with the highes total vote_average is drama while the genre with the lowest vote_average is foreign. This requires more investigation to ascertain whether people like the drama genre compared to other genres</li>\n",
    "</ul>\n",
    "\n",
    "   The limitation of the exploration is that we can't ascertain why some observations are the way they are from the dataset for example it would be nice to know the undelying factors that make the runtime of animated movies to be lower than other genres. Although some assumptions can be made , however from the data given to us we can never know for sure.\n",
    "   \n",
    "   Another limitation of the exploration has to do with the dataset There is a fair amount of missing values in the dataset and this is bound to affect the accuracy of our analysis\n",
    "\n",
    "\n",
    "\n",
    "NB: Apart from the matplotlib and pandas documentation no other external source was consulted in the making of this project\n",
    "\n",
    "## Submitting your Project \n",
    "\n"
   ]
  },
  {
   "cell_type": "code",
   "execution_count": 54,
   "metadata": {},
   "outputs": [
    {
     "data": {
      "text/plain": [
       "0"
      ]
     },
     "execution_count": 54,
     "metadata": {},
     "output_type": "execute_result"
    }
   ],
   "source": [
    "from subprocess import call\n",
    "call(['python', '-m', 'nbconvert', 'Investigate_a_Dataset.ipynb'])"
   ]
  },
  {
   "cell_type": "code",
   "execution_count": null,
   "metadata": {},
   "outputs": [],
   "source": []
  },
  {
   "cell_type": "code",
   "execution_count": null,
   "metadata": {},
   "outputs": [],
   "source": []
  }
 ],
 "metadata": {
  "kernelspec": {
   "display_name": "Python 3",
   "language": "python",
   "name": "python3"
  },
  "language_info": {
   "codemirror_mode": {
    "name": "ipython",
    "version": 3
   },
   "file_extension": ".py",
   "mimetype": "text/x-python",
   "name": "python",
   "nbconvert_exporter": "python",
   "pygments_lexer": "ipython3",
   "version": "3.8.3"
  }
 },
 "nbformat": 4,
 "nbformat_minor": 2
}
